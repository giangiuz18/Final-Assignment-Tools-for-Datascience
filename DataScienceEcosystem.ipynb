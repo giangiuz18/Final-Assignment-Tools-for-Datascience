{
 "cells": [
  {
   "cell_type": "markdown",
   "id": "d74971bb-a35d-4d5d-ba94-addb0cb1f6a6",
   "metadata": {
    "tags": []
   },
   "source": [
    "# Data Science Tools and Ecosystem"
   ]
  },
  {
   "cell_type": "markdown",
   "id": "dd85932b-e855-4cfd-9488-774330bc6fd7",
   "metadata": {},
   "source": [
    "In this notebook, Data Science Tools and Ecosystem are summarized."
   ]
  },
  {
   "cell_type": "markdown",
   "id": "08ee2124-0da4-450f-aadd-9c63ce5c4bb6",
   "metadata": {},
   "source": [
    "Some of the popular languages that Data Scientists use are:\n",
    "1. Python\n",
    "2. R\n",
    "3. SQL"
   ]
  },
  {
   "cell_type": "markdown",
   "id": "fa5229a0-92d7-41d7-b2fc-e5caa012f979",
   "metadata": {},
   "source": [
    "Some of the commonly used libraries used by Data Scientists include:\n",
    "1. numpy\n",
    "2. pandas\n",
    "3. matplotlib"
   ]
  },
  {
   "cell_type": "markdown",
   "id": "095a6ed3-1da0-4482-890b-933b2792a4a8",
   "metadata": {},
   "source": [
    "|Data Science Tools|\n",
    "|----|\n",
    "|Apache Spark|\n",
    "|Jupyter|\n",
    "|Rstudio|"
   ]
  },
  {
   "cell_type": "markdown",
   "id": "a9d0ed25-7bc6-494a-a2ed-c969e517793c",
   "metadata": {},
   "source": [
    "### Below are a few examples of evaluating arithmetic expressions in Python"
   ]
  },
  {
   "cell_type": "code",
   "execution_count": 4,
   "id": "00d98913-b526-4773-87c1-60b7a1c31507",
   "metadata": {
    "tags": []
   },
   "outputs": [
    {
     "data": {
      "text/plain": [
       "17"
      ]
     },
     "execution_count": 4,
     "metadata": {},
     "output_type": "execute_result"
    }
   ],
   "source": [
    "#This a simple arithmetic expression to mutiply then add integers\n",
    "(3*4)+5"
   ]
  },
  {
   "cell_type": "code",
   "execution_count": 5,
   "id": "d3be0c24-be09-472f-a035-195736eb896e",
   "metadata": {
    "tags": []
   },
   "outputs": [
    {
     "data": {
      "text/plain": [
       "3.3333333333333335"
      ]
     },
     "execution_count": 5,
     "metadata": {},
     "output_type": "execute_result"
    }
   ],
   "source": [
    "#This will convert 200 minutes to hours by diving by 60\n",
    "200/60"
   ]
  },
  {
   "cell_type": "markdown",
   "id": "ac4499f6-132e-4115-8874-a30801753f15",
   "metadata": {},
   "source": [
    "Objectives:\n",
    "* Python\n",
    "* R\n",
    "* SQL\n",
    "* Git\n",
    "* Jupyter"
   ]
  },
  {
   "cell_type": "markdown",
   "id": "cc2edceb-c149-4b78-93b1-4b80984a60ca",
   "metadata": {},
   "source": [
    "## Author\n",
    "Gianluca Sirigu"
   ]
  }
 ],
 "metadata": {
  "kernelspec": {
   "display_name": "Python 3 (ipykernel)",
   "language": "python",
   "name": "python3"
  },
  "language_info": {
   "codemirror_mode": {
    "name": "ipython",
    "version": 3
   },
   "file_extension": ".py",
   "mimetype": "text/x-python",
   "name": "python",
   "nbconvert_exporter": "python",
   "pygments_lexer": "ipython3",
   "version": "3.8.18"
  }
 },
 "nbformat": 4,
 "nbformat_minor": 5
}
